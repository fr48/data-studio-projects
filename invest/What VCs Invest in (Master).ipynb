{
 "cells": [
  {
   "cell_type": "markdown",
   "metadata": {},
   "source": [
    "# Who Is Investing in CyberSecurity?\n",
    "\n",
    "Cybersecurity is red-hot and there is a lot of money being thrown at the industry. Where is the bulk of the money going?\n",
    "\n",
    "### Data Sources\n",
    "\n",
    "* Crunchbase\n",
    "\n",
    "    - investment-2017 in investment-2019.csv\n",
    "    \n",
    "    - investment-XXX.csv {security, cybersecurity, cloud security, network security, privacy, blockchain, (bitcoin, ethereum, cryptocurrency), identity management, compliance}\n",
    "\n",
    "\n",
    "* CyberSecurityVenures\n",
    "\n",
    "### Ideas\n",
    "\n",
    "* Is it worth seeing where the different investments are for each category?\n",
    "\n",
    "* Who are the ones investing in security?"
   ]
  },
  {
   "cell_type": "code",
   "execution_count": 1,
   "metadata": {},
   "outputs": [],
   "source": [
    "import pandas as pd\n",
    "import numpy as np\n",
    "\n",
    "import datetime\n",
    "\n",
    "pd.set_option('display.max_columns', 500)\n",
    "\n",
    "import re\n",
    "\n",
    "import statsmodels.api as sm\n",
    "\n",
    "#For visualizations:\n",
    "import matplotlib.pyplot as plt\n",
    "import seaborn as sns\n",
    "sns.set(style=\"whitegrid\", context=\"paper\", color_codes=True)"
   ]
  },
  {
   "cell_type": "markdown",
   "metadata": {},
   "source": [
    "## Prepare the main data set \n",
    "\n",
    "of all companies that received some kind of funding.\n",
    "\n",
    "### Editorial decision: \n",
    "\n",
    "two year period, the last half of 2017, all of 2018 and first half of 2019\n",
    "    "
   ]
  },
  {
   "cell_type": "code",
   "execution_count": 3,
   "metadata": {},
   "outputs": [
    {
     "data": {
      "text/plain": [
       "(997, 10)"
      ]
     },
     "execution_count": 3,
     "metadata": {},
     "output_type": "execute_result"
    }
   ],
   "source": [
    "input_data = pd.read_csv('data/investors-2017-2018.csv')\n",
    "input_data.shape"
   ]
  },
  {
   "cell_type": "code",
   "execution_count": 4,
   "metadata": {},
   "outputs": [
    {
     "data": {
      "text/html": [
       "<div>\n",
       "<style scoped>\n",
       "    .dataframe tbody tr th:only-of-type {\n",
       "        vertical-align: middle;\n",
       "    }\n",
       "\n",
       "    .dataframe tbody tr th {\n",
       "        vertical-align: top;\n",
       "    }\n",
       "\n",
       "    .dataframe thead th {\n",
       "        text-align: right;\n",
       "    }\n",
       "</style>\n",
       "<table border=\"1\" class=\"dataframe\">\n",
       "  <thead>\n",
       "    <tr style=\"text-align: right;\">\n",
       "      <th></th>\n",
       "      <th>Transaction Name</th>\n",
       "      <th>Transaction Name URL</th>\n",
       "      <th>Organization Name</th>\n",
       "      <th>Organization Name URL</th>\n",
       "      <th>Funding Type</th>\n",
       "      <th>Money Raised</th>\n",
       "      <th>Money Raised Currency</th>\n",
       "      <th>Money Raised Currency (in USD)</th>\n",
       "      <th>Announced Date</th>\n",
       "      <th>Investor Names</th>\n",
       "    </tr>\n",
       "  </thead>\n",
       "  <tbody>\n",
       "    <tr>\n",
       "      <th>0</th>\n",
       "      <td>Seed Round - LogRocket</td>\n",
       "      <td>https://www.crunchbase.com/funding_round/logro...</td>\n",
       "      <td>LogRocket</td>\n",
       "      <td>https://www.crunchbase.com/organization/logrocket</td>\n",
       "      <td>Seed</td>\n",
       "      <td>4000000.0</td>\n",
       "      <td>USD</td>\n",
       "      <td>4000000.0</td>\n",
       "      <td>2017-08-28</td>\n",
       "      <td>Kevin Mahaffey, Matrix Partners, Nitesh Banta</td>\n",
       "    </tr>\n",
       "    <tr>\n",
       "      <th>1</th>\n",
       "      <td>Convertible Note - PatternEx</td>\n",
       "      <td>https://www.crunchbase.com/funding_round/patte...</td>\n",
       "      <td>PatternEx</td>\n",
       "      <td>https://www.crunchbase.com/organization/patternex</td>\n",
       "      <td>Convertible Note</td>\n",
       "      <td>NaN</td>\n",
       "      <td>NaN</td>\n",
       "      <td>NaN</td>\n",
       "      <td>2017-07-16</td>\n",
       "      <td>CTW Venture Partners, Maxim Ventures, Monta Vi...</td>\n",
       "    </tr>\n",
       "    <tr>\n",
       "      <th>2</th>\n",
       "      <td>Seed Round - Dover Microsystems</td>\n",
       "      <td>https://www.crunchbase.com/funding_round/dover...</td>\n",
       "      <td>Dover Microsystems</td>\n",
       "      <td>https://www.crunchbase.com/organization/dover-...</td>\n",
       "      <td>Seed</td>\n",
       "      <td>6000000.0</td>\n",
       "      <td>USD</td>\n",
       "      <td>6000000.0</td>\n",
       "      <td>2018-02-21</td>\n",
       "      <td>Draper, Hub Angels Investment Group, Hyperplan...</td>\n",
       "    </tr>\n",
       "    <tr>\n",
       "      <th>3</th>\n",
       "      <td>Venture Round - Hornetsecurity</td>\n",
       "      <td>https://www.crunchbase.com/funding_round/horne...</td>\n",
       "      <td>Hornetsecurity</td>\n",
       "      <td>https://www.crunchbase.com/organization/hornet...</td>\n",
       "      <td>Venture - Series Unknown</td>\n",
       "      <td>NaN</td>\n",
       "      <td>NaN</td>\n",
       "      <td>NaN</td>\n",
       "      <td>2017-10-27</td>\n",
       "      <td>NaN</td>\n",
       "    </tr>\n",
       "    <tr>\n",
       "      <th>4</th>\n",
       "      <td>Series A - Rubica</td>\n",
       "      <td>https://www.crunchbase.com/funding_round/rubic...</td>\n",
       "      <td>Rubica</td>\n",
       "      <td>https://www.crunchbase.com/organization/rubica</td>\n",
       "      <td>Series A</td>\n",
       "      <td>9000000.0</td>\n",
       "      <td>USD</td>\n",
       "      <td>9000000.0</td>\n",
       "      <td>2018-03-13</td>\n",
       "      <td>Anonymous Trust, Lerer Hippeau, Reflective Ven...</td>\n",
       "    </tr>\n",
       "  </tbody>\n",
       "</table>\n",
       "</div>"
      ],
      "text/plain": [
       "                  Transaction Name  \\\n",
       "0           Seed Round - LogRocket   \n",
       "1     Convertible Note - PatternEx   \n",
       "2  Seed Round - Dover Microsystems   \n",
       "3   Venture Round - Hornetsecurity   \n",
       "4                Series A - Rubica   \n",
       "\n",
       "                                Transaction Name URL   Organization Name  \\\n",
       "0  https://www.crunchbase.com/funding_round/logro...           LogRocket   \n",
       "1  https://www.crunchbase.com/funding_round/patte...           PatternEx   \n",
       "2  https://www.crunchbase.com/funding_round/dover...  Dover Microsystems   \n",
       "3  https://www.crunchbase.com/funding_round/horne...      Hornetsecurity   \n",
       "4  https://www.crunchbase.com/funding_round/rubic...              Rubica   \n",
       "\n",
       "                               Organization Name URL  \\\n",
       "0  https://www.crunchbase.com/organization/logrocket   \n",
       "1  https://www.crunchbase.com/organization/patternex   \n",
       "2  https://www.crunchbase.com/organization/dover-...   \n",
       "3  https://www.crunchbase.com/organization/hornet...   \n",
       "4     https://www.crunchbase.com/organization/rubica   \n",
       "\n",
       "               Funding Type  Money Raised Money Raised Currency  \\\n",
       "0                      Seed     4000000.0                   USD   \n",
       "1          Convertible Note           NaN                   NaN   \n",
       "2                      Seed     6000000.0                   USD   \n",
       "3  Venture - Series Unknown           NaN                   NaN   \n",
       "4                  Series A     9000000.0                   USD   \n",
       "\n",
       "   Money Raised Currency (in USD) Announced Date  \\\n",
       "0                       4000000.0     2017-08-28   \n",
       "1                             NaN     2017-07-16   \n",
       "2                       6000000.0     2018-02-21   \n",
       "3                             NaN     2017-10-27   \n",
       "4                       9000000.0     2018-03-13   \n",
       "\n",
       "                                      Investor Names  \n",
       "0      Kevin Mahaffey, Matrix Partners, Nitesh Banta  \n",
       "1  CTW Venture Partners, Maxim Ventures, Monta Vi...  \n",
       "2  Draper, Hub Angels Investment Group, Hyperplan...  \n",
       "3                                                NaN  \n",
       "4  Anonymous Trust, Lerer Hippeau, Reflective Ven...  "
      ]
     },
     "execution_count": 4,
     "metadata": {},
     "output_type": "execute_result"
    }
   ],
   "source": [
    "#create master dataframe\n",
    "investments = input_data\n",
    "investments.head(5)"
   ]
  },
  {
   "cell_type": "code",
   "execution_count": 5,
   "metadata": {},
   "outputs": [
    {
     "data": {
      "text/plain": [
       "(688, 10)"
      ]
     },
     "execution_count": 5,
     "metadata": {},
     "output_type": "execute_result"
    }
   ],
   "source": [
    "input_data = pd.read_csv('data/investors-2018.csv')\n",
    "input_data.shape"
   ]
  },
  {
   "cell_type": "code",
   "execution_count": 6,
   "metadata": {},
   "outputs": [
    {
     "data": {
      "text/plain": [
       "(1685, 10)"
      ]
     },
     "execution_count": 6,
     "metadata": {},
     "output_type": "execute_result"
    }
   ],
   "source": [
    "investments = pd.concat([investments, input_data], axis = 0, join=\"outer\")\n",
    "investments.shape"
   ]
  },
  {
   "cell_type": "code",
   "execution_count": 7,
   "metadata": {},
   "outputs": [
    {
     "data": {
      "text/plain": [
       "(445, 10)"
      ]
     },
     "execution_count": 7,
     "metadata": {},
     "output_type": "execute_result"
    }
   ],
   "source": [
    "input_data = pd.read_csv('data/investors-2019.csv')\n",
    "input_data.shape"
   ]
  },
  {
   "cell_type": "code",
   "execution_count": 8,
   "metadata": {},
   "outputs": [
    {
     "data": {
      "text/plain": [
       "(2130, 10)"
      ]
     },
     "execution_count": 8,
     "metadata": {},
     "output_type": "execute_result"
    }
   ],
   "source": [
    "investments = pd.concat([investments, input_data], axis = 0, join=\"outer\")\n",
    "investments.shape"
   ]
  },
  {
   "cell_type": "code",
   "execution_count": 9,
   "metadata": {},
   "outputs": [
    {
     "name": "stdout",
     "output_type": "stream",
     "text": [
      "<class 'pandas.core.frame.DataFrame'>\n",
      "Int64Index: 2130 entries, 0 to 444\n",
      "Data columns (total 10 columns):\n",
      "Transaction Name                  2130 non-null object\n",
      "Transaction Name URL              2130 non-null object\n",
      "Organization Name                 2130 non-null object\n",
      "Organization Name URL             2130 non-null object\n",
      "Funding Type                      2130 non-null object\n",
      "Money Raised                      1565 non-null float64\n",
      "Money Raised Currency             1565 non-null object\n",
      "Money Raised Currency (in USD)    1565 non-null float64\n",
      "Announced Date                    2130 non-null object\n",
      "Investor Names                    1726 non-null object\n",
      "dtypes: float64(2), object(8)\n",
      "memory usage: 183.0+ KB\n"
     ]
    }
   ],
   "source": [
    "investments.info()"
   ]
  },
  {
   "cell_type": "markdown",
   "metadata": {},
   "source": [
    "### Cleanup and format master table"
   ]
  },
  {
   "cell_type": "code",
   "execution_count": 11,
   "metadata": {},
   "outputs": [
    {
     "data": {
      "text/html": [
       "<div>\n",
       "<style scoped>\n",
       "    .dataframe tbody tr th:only-of-type {\n",
       "        vertical-align: middle;\n",
       "    }\n",
       "\n",
       "    .dataframe tbody tr th {\n",
       "        vertical-align: top;\n",
       "    }\n",
       "\n",
       "    .dataframe thead th {\n",
       "        text-align: right;\n",
       "    }\n",
       "</style>\n",
       "<table border=\"1\" class=\"dataframe\">\n",
       "  <thead>\n",
       "    <tr style=\"text-align: right;\">\n",
       "      <th></th>\n",
       "      <th>Organization Name</th>\n",
       "      <th>Funding Type</th>\n",
       "      <th>Money Raised Currency (in USD)</th>\n",
       "      <th>Investor Names</th>\n",
       "      <th>FundedDate</th>\n",
       "      <th>Funded</th>\n",
       "      <th>Period</th>\n",
       "      <th>Quarter</th>\n",
       "    </tr>\n",
       "  </thead>\n",
       "  <tbody>\n",
       "    <tr>\n",
       "      <th>0</th>\n",
       "      <td>LogRocket</td>\n",
       "      <td>Seed</td>\n",
       "      <td>4000000.0</td>\n",
       "      <td>Kevin Mahaffey, Matrix Partners, Nitesh Banta</td>\n",
       "      <td>2017-08-28</td>\n",
       "      <td>2017</td>\n",
       "      <td>2017-08</td>\n",
       "      <td>20173Q</td>\n",
       "    </tr>\n",
       "    <tr>\n",
       "      <th>1</th>\n",
       "      <td>PatternEx</td>\n",
       "      <td>Convertible Note</td>\n",
       "      <td>NaN</td>\n",
       "      <td>CTW Venture Partners, Maxim Ventures, Monta Vi...</td>\n",
       "      <td>2017-07-16</td>\n",
       "      <td>2017</td>\n",
       "      <td>2017-07</td>\n",
       "      <td>20173Q</td>\n",
       "    </tr>\n",
       "    <tr>\n",
       "      <th>2</th>\n",
       "      <td>Dover Microsystems</td>\n",
       "      <td>Seed</td>\n",
       "      <td>6000000.0</td>\n",
       "      <td>Draper, Hub Angels Investment Group, Hyperplan...</td>\n",
       "      <td>2018-02-21</td>\n",
       "      <td>2018</td>\n",
       "      <td>2018-02</td>\n",
       "      <td>20181Q</td>\n",
       "    </tr>\n",
       "    <tr>\n",
       "      <th>3</th>\n",
       "      <td>Hornetsecurity</td>\n",
       "      <td>Venture - Series Unknown</td>\n",
       "      <td>NaN</td>\n",
       "      <td>NaN</td>\n",
       "      <td>2017-10-27</td>\n",
       "      <td>2017</td>\n",
       "      <td>2017-10</td>\n",
       "      <td>20174Q</td>\n",
       "    </tr>\n",
       "    <tr>\n",
       "      <th>4</th>\n",
       "      <td>Rubica</td>\n",
       "      <td>Series A</td>\n",
       "      <td>9000000.0</td>\n",
       "      <td>Anonymous Trust, Lerer Hippeau, Reflective Ven...</td>\n",
       "      <td>2018-03-13</td>\n",
       "      <td>2018</td>\n",
       "      <td>2018-03</td>\n",
       "      <td>20181Q</td>\n",
       "    </tr>\n",
       "    <tr>\n",
       "      <th>5</th>\n",
       "      <td>Smile Identity</td>\n",
       "      <td>Seed</td>\n",
       "      <td>NaN</td>\n",
       "      <td>500 Startups, Intercept Ventures, Susa Venture...</td>\n",
       "      <td>2018-04-09</td>\n",
       "      <td>2018</td>\n",
       "      <td>2018-04</td>\n",
       "      <td>20182Q</td>\n",
       "    </tr>\n",
       "    <tr>\n",
       "      <th>6</th>\n",
       "      <td>Giroxx</td>\n",
       "      <td>Seed</td>\n",
       "      <td>594646.0</td>\n",
       "      <td>Hessen Kapital I GmbH</td>\n",
       "      <td>2017-09-04</td>\n",
       "      <td>2017</td>\n",
       "      <td>2017-09</td>\n",
       "      <td>20173Q</td>\n",
       "    </tr>\n",
       "    <tr>\n",
       "      <th>7</th>\n",
       "      <td>AlloVoisins</td>\n",
       "      <td>Venture - Series Unknown</td>\n",
       "      <td>3678251.0</td>\n",
       "      <td>RTL Group, Verdoso Media</td>\n",
       "      <td>2018-02-08</td>\n",
       "      <td>2018</td>\n",
       "      <td>2018-02</td>\n",
       "      <td>20181Q</td>\n",
       "    </tr>\n",
       "    <tr>\n",
       "      <th>8</th>\n",
       "      <td>Keep</td>\n",
       "      <td>Venture - Series Unknown</td>\n",
       "      <td>NaN</td>\n",
       "      <td>Andreessen Horowitz, Compound, Dekrypt Capital...</td>\n",
       "      <td>2018-04-01</td>\n",
       "      <td>2018</td>\n",
       "      <td>2018-04</td>\n",
       "      <td>20182Q</td>\n",
       "    </tr>\n",
       "    <tr>\n",
       "      <th>9</th>\n",
       "      <td>XCloud Networks</td>\n",
       "      <td>Seed</td>\n",
       "      <td>560000.0</td>\n",
       "      <td>Berge Berge Ayvazian, Granatus Ventures, HI Ci...</td>\n",
       "      <td>2018-01-11</td>\n",
       "      <td>2018</td>\n",
       "      <td>2018-01</td>\n",
       "      <td>20181Q</td>\n",
       "    </tr>\n",
       "  </tbody>\n",
       "</table>\n",
       "</div>"
      ],
      "text/plain": [
       "    Organization Name              Funding Type  \\\n",
       "0           LogRocket                      Seed   \n",
       "1           PatternEx          Convertible Note   \n",
       "2  Dover Microsystems                      Seed   \n",
       "3      Hornetsecurity  Venture - Series Unknown   \n",
       "4              Rubica                  Series A   \n",
       "5      Smile Identity                      Seed   \n",
       "6              Giroxx                      Seed   \n",
       "7         AlloVoisins  Venture - Series Unknown   \n",
       "8                Keep  Venture - Series Unknown   \n",
       "9     XCloud Networks                      Seed   \n",
       "\n",
       "   Money Raised Currency (in USD)  \\\n",
       "0                       4000000.0   \n",
       "1                             NaN   \n",
       "2                       6000000.0   \n",
       "3                             NaN   \n",
       "4                       9000000.0   \n",
       "5                             NaN   \n",
       "6                        594646.0   \n",
       "7                       3678251.0   \n",
       "8                             NaN   \n",
       "9                        560000.0   \n",
       "\n",
       "                                      Investor Names FundedDate  Funded  \\\n",
       "0      Kevin Mahaffey, Matrix Partners, Nitesh Banta 2017-08-28    2017   \n",
       "1  CTW Venture Partners, Maxim Ventures, Monta Vi... 2017-07-16    2017   \n",
       "2  Draper, Hub Angels Investment Group, Hyperplan... 2018-02-21    2018   \n",
       "3                                                NaN 2017-10-27    2017   \n",
       "4  Anonymous Trust, Lerer Hippeau, Reflective Ven... 2018-03-13    2018   \n",
       "5  500 Startups, Intercept Ventures, Susa Venture... 2018-04-09    2018   \n",
       "6                              Hessen Kapital I GmbH 2017-09-04    2017   \n",
       "7                           RTL Group, Verdoso Media 2018-02-08    2018   \n",
       "8  Andreessen Horowitz, Compound, Dekrypt Capital... 2018-04-01    2018   \n",
       "9  Berge Berge Ayvazian, Granatus Ventures, HI Ci... 2018-01-11    2018   \n",
       "\n",
       "    Period Quarter  \n",
       "0  2017-08  20173Q  \n",
       "1  2017-07  20173Q  \n",
       "2  2018-02  20181Q  \n",
       "3  2017-10  20174Q  \n",
       "4  2018-03  20181Q  \n",
       "5  2018-04  20182Q  \n",
       "6  2017-09  20173Q  \n",
       "7  2018-02  20181Q  \n",
       "8  2018-04  20182Q  \n",
       "9  2018-01  20181Q  "
      ]
     },
     "execution_count": 11,
     "metadata": {},
     "output_type": "execute_result"
    }
   ],
   "source": [
    "investments['FundedDate']= pd.to_datetime(investments['Announced Date']) \n",
    "investments['Funded'] = pd.DatetimeIndex(investments['FundedDate']).year\n",
    "investments['Period']=pd.to_datetime(investments['FundedDate']).dt.to_period('M')\n",
    "investments['Quarter']=investments['Period'].astype(str)\n",
    "investments.Quarter.replace(['2019-01', '2019-02', '2019-03'], '20191Q', inplace=True)\n",
    "investments.Quarter.replace(['2019-04', '2019-05', '2019-06'], '20192Q', inplace=True)\n",
    "investments.Quarter.replace(['2019-07', '2019-08', '2019-09'], '20193Q', inplace=True)\n",
    "investments.Quarter.replace(['2018-01', '2018-02', '2018-03'], '20181Q', inplace=True)\n",
    "investments.Quarter.replace(['2018-04', '2018-05', '2018-06'], '20182Q', inplace=True)\n",
    "investments.Quarter.replace(['2018-07', '2018-08', '2018-09'], '20183Q', inplace=True)\n",
    "investments.Quarter.replace(['2018-10', '2018-11', '2018-12'], '20184Q', inplace=True)\n",
    "investments.Quarter.replace(['2017-07', '2017-08', '2017-09'], '20173Q', inplace=True)\n",
    "investments.Quarter.replace(['2017-10', '2017-11', '2017-12'], '20174Q', inplace=True)\n",
    "\n",
    "investments = investments.drop(['Transaction Name', 'Transaction Name URL', 'Announced Date','Organization Name URL', 'Money Raised', 'Money Raised Currency'], axis=1)\n",
    "investments.head(10)"
   ]
  },
  {
   "cell_type": "code",
   "execution_count": 13,
   "metadata": {},
   "outputs": [
    {
     "name": "stdout",
     "output_type": "stream",
     "text": [
      "<class 'pandas.core.frame.DataFrame'>\n",
      "Int64Index: 2130 entries, 0 to 444\n",
      "Data columns (total 8 columns):\n",
      "Organization     2130 non-null object\n",
      "FundingType      2130 non-null object\n",
      "FundingAmount    1565 non-null float64\n",
      "Investors        1726 non-null object\n",
      "FundedDate       2130 non-null datetime64[ns]\n",
      "Funded           2130 non-null int64\n",
      "Period           2130 non-null period[M]\n",
      "Quarter          2130 non-null object\n",
      "dtypes: datetime64[ns](1), float64(1), int64(1), object(4), period[M](1)\n",
      "memory usage: 149.8+ KB\n"
     ]
    }
   ],
   "source": [
    "#rename fields for easier access\n",
    "investments = investments.rename(columns={\"Organization Name\": \"Organization\", \n",
    "                   \"Money Raised Currency (in USD)\" : \"FundingAmount\",\n",
    "                   \"Funding Type\" : \"FundingType\",\n",
    "                   \"Investor Names\" : \"Investors\",\n",
    "                  })\n",
    "investments.info()"
   ]
  },
  {
   "cell_type": "code",
   "execution_count": 14,
   "metadata": {},
   "outputs": [
    {
     "data": {
      "text/plain": [
       "Organization       0\n",
       "FundingType        0\n",
       "FundingAmount    565\n",
       "Investors        404\n",
       "FundedDate         0\n",
       "Funded             0\n",
       "Period             0\n",
       "Quarter            0\n",
       "dtype: int64"
      ]
     },
     "execution_count": 14,
     "metadata": {},
     "output_type": "execute_result"
    }
   ],
   "source": [
    "#understanding the data\n",
    "investments.isnull().sum()"
   ]
  },
  {
   "cell_type": "markdown",
   "metadata": {},
   "source": [
    "### Editorial Decision\n",
    "\n",
    "In a research about investments, there's no value in having Funding Amounts or Investor Names as ```NaN```. However, there may be value in knowing that the funding deal was with a private investor or otherwise undisclosed. Likewise, there may be value in knowing that a deal with large investors still had no disclosed amounts. As a result, I changed the values to Undisclosed (Investors) and -1 (FundingAmount) so that I can still perform my comparisons."
   ]
  },
  {
   "cell_type": "code",
   "execution_count": 15,
   "metadata": {},
   "outputs": [
    {
     "data": {
      "text/plain": [
       "Organization     0\n",
       "FundingType      0\n",
       "FundingAmount    0\n",
       "Investors        0\n",
       "FundedDate       0\n",
       "Funded           0\n",
       "Period           0\n",
       "Quarter          0\n",
       "dtype: int64"
      ]
     },
     "execution_count": 15,
     "metadata": {},
     "output_type": "execute_result"
    }
   ],
   "source": [
    "investments['Investors'].fillna('Undisclosed', inplace=True)\n",
    "investments['FundingAmount'].fillna(-1, inplace=True)\n",
    "investments.isnull().sum()"
   ]
  },
  {
   "cell_type": "code",
   "execution_count": 16,
   "metadata": {},
   "outputs": [
    {
     "data": {
      "text/html": [
       "<div>\n",
       "<style scoped>\n",
       "    .dataframe tbody tr th:only-of-type {\n",
       "        vertical-align: middle;\n",
       "    }\n",
       "\n",
       "    .dataframe tbody tr th {\n",
       "        vertical-align: top;\n",
       "    }\n",
       "\n",
       "    .dataframe thead th {\n",
       "        text-align: right;\n",
       "    }\n",
       "</style>\n",
       "<table border=\"1\" class=\"dataframe\">\n",
       "  <thead>\n",
       "    <tr style=\"text-align: right;\">\n",
       "      <th></th>\n",
       "      <th>Organization</th>\n",
       "      <th>FundingType</th>\n",
       "      <th>FundingAmount</th>\n",
       "      <th>Investors</th>\n",
       "      <th>FundedDate</th>\n",
       "      <th>Funded</th>\n",
       "      <th>Period</th>\n",
       "      <th>Quarter</th>\n",
       "    </tr>\n",
       "  </thead>\n",
       "  <tbody>\n",
       "    <tr>\n",
       "      <th>0</th>\n",
       "      <td>LogRocket</td>\n",
       "      <td>Seed</td>\n",
       "      <td>4000000.0</td>\n",
       "      <td>Kevin Mahaffey, Matrix Partners, Nitesh Banta</td>\n",
       "      <td>2017-08-28</td>\n",
       "      <td>2017</td>\n",
       "      <td>2017-08</td>\n",
       "      <td>20173Q</td>\n",
       "    </tr>\n",
       "    <tr>\n",
       "      <th>1</th>\n",
       "      <td>PatternEx</td>\n",
       "      <td>Convertible Note</td>\n",
       "      <td>-1.0</td>\n",
       "      <td>CTW Venture Partners, Maxim Ventures, Monta Vi...</td>\n",
       "      <td>2017-07-16</td>\n",
       "      <td>2017</td>\n",
       "      <td>2017-07</td>\n",
       "      <td>20173Q</td>\n",
       "    </tr>\n",
       "    <tr>\n",
       "      <th>2</th>\n",
       "      <td>Dover Microsystems</td>\n",
       "      <td>Seed</td>\n",
       "      <td>6000000.0</td>\n",
       "      <td>Draper, Hub Angels Investment Group, Hyperplan...</td>\n",
       "      <td>2018-02-21</td>\n",
       "      <td>2018</td>\n",
       "      <td>2018-02</td>\n",
       "      <td>20181Q</td>\n",
       "    </tr>\n",
       "    <tr>\n",
       "      <th>3</th>\n",
       "      <td>Hornetsecurity</td>\n",
       "      <td>Venture - Series Unknown</td>\n",
       "      <td>-1.0</td>\n",
       "      <td>Undisclosed</td>\n",
       "      <td>2017-10-27</td>\n",
       "      <td>2017</td>\n",
       "      <td>2017-10</td>\n",
       "      <td>20174Q</td>\n",
       "    </tr>\n",
       "    <tr>\n",
       "      <th>4</th>\n",
       "      <td>Rubica</td>\n",
       "      <td>Series A</td>\n",
       "      <td>9000000.0</td>\n",
       "      <td>Anonymous Trust, Lerer Hippeau, Reflective Ven...</td>\n",
       "      <td>2018-03-13</td>\n",
       "      <td>2018</td>\n",
       "      <td>2018-03</td>\n",
       "      <td>20181Q</td>\n",
       "    </tr>\n",
       "  </tbody>\n",
       "</table>\n",
       "</div>"
      ],
      "text/plain": [
       "         Organization               FundingType  FundingAmount  \\\n",
       "0           LogRocket                      Seed      4000000.0   \n",
       "1           PatternEx          Convertible Note           -1.0   \n",
       "2  Dover Microsystems                      Seed      6000000.0   \n",
       "3      Hornetsecurity  Venture - Series Unknown           -1.0   \n",
       "4              Rubica                  Series A      9000000.0   \n",
       "\n",
       "                                           Investors FundedDate  Funded  \\\n",
       "0      Kevin Mahaffey, Matrix Partners, Nitesh Banta 2017-08-28    2017   \n",
       "1  CTW Venture Partners, Maxim Ventures, Monta Vi... 2017-07-16    2017   \n",
       "2  Draper, Hub Angels Investment Group, Hyperplan... 2018-02-21    2018   \n",
       "3                                        Undisclosed 2017-10-27    2017   \n",
       "4  Anonymous Trust, Lerer Hippeau, Reflective Ven... 2018-03-13    2018   \n",
       "\n",
       "    Period Quarter  \n",
       "0  2017-08  20173Q  \n",
       "1  2017-07  20173Q  \n",
       "2  2018-02  20181Q  \n",
       "3  2017-10  20174Q  \n",
       "4  2018-03  20181Q  "
      ]
     },
     "execution_count": 16,
     "metadata": {},
     "output_type": "execute_result"
    }
   ],
   "source": [
    "investments.head(5)"
   ]
  },
  {
   "cell_type": "code",
   "execution_count": 17,
   "metadata": {},
   "outputs": [
    {
     "data": {
      "text/html": [
       "<div>\n",
       "<style scoped>\n",
       "    .dataframe tbody tr th:only-of-type {\n",
       "        vertical-align: middle;\n",
       "    }\n",
       "\n",
       "    .dataframe tbody tr th {\n",
       "        vertical-align: top;\n",
       "    }\n",
       "\n",
       "    .dataframe thead th {\n",
       "        text-align: right;\n",
       "    }\n",
       "</style>\n",
       "<table border=\"1\" class=\"dataframe\">\n",
       "  <thead>\n",
       "    <tr style=\"text-align: right;\">\n",
       "      <th></th>\n",
       "      <th>Funded</th>\n",
       "      <th>Period</th>\n",
       "      <th>FundingAmount</th>\n",
       "      <th>FundingType</th>\n",
       "      <th>FundedDate</th>\n",
       "      <th>Quarter</th>\n",
       "    </tr>\n",
       "  </thead>\n",
       "  <tbody>\n",
       "    <tr>\n",
       "      <th>0</th>\n",
       "      <td>2017</td>\n",
       "      <td>2017-08</td>\n",
       "      <td>4000000.0</td>\n",
       "      <td>Seed</td>\n",
       "      <td>2017-08-28</td>\n",
       "      <td>20173Q</td>\n",
       "    </tr>\n",
       "    <tr>\n",
       "      <th>1</th>\n",
       "      <td>2017</td>\n",
       "      <td>2017-07</td>\n",
       "      <td>-1.0</td>\n",
       "      <td>Convertible Note</td>\n",
       "      <td>2017-07-16</td>\n",
       "      <td>20173Q</td>\n",
       "    </tr>\n",
       "    <tr>\n",
       "      <th>2</th>\n",
       "      <td>2018</td>\n",
       "      <td>2018-02</td>\n",
       "      <td>6000000.0</td>\n",
       "      <td>Seed</td>\n",
       "      <td>2018-02-21</td>\n",
       "      <td>20181Q</td>\n",
       "    </tr>\n",
       "    <tr>\n",
       "      <th>3</th>\n",
       "      <td>2017</td>\n",
       "      <td>2017-10</td>\n",
       "      <td>-1.0</td>\n",
       "      <td>Venture - Series Unknown</td>\n",
       "      <td>2017-10-27</td>\n",
       "      <td>20174Q</td>\n",
       "    </tr>\n",
       "    <tr>\n",
       "      <th>4</th>\n",
       "      <td>2018</td>\n",
       "      <td>2018-03</td>\n",
       "      <td>9000000.0</td>\n",
       "      <td>Series A</td>\n",
       "      <td>2018-03-13</td>\n",
       "      <td>20181Q</td>\n",
       "    </tr>\n",
       "  </tbody>\n",
       "</table>\n",
       "</div>"
      ],
      "text/plain": [
       "   Funded   Period  FundingAmount               FundingType FundedDate Quarter\n",
       "0    2017  2017-08      4000000.0                      Seed 2017-08-28  20173Q\n",
       "1    2017  2017-07           -1.0          Convertible Note 2017-07-16  20173Q\n",
       "2    2018  2018-02      6000000.0                      Seed 2018-02-21  20181Q\n",
       "3    2017  2017-10           -1.0  Venture - Series Unknown 2017-10-27  20174Q\n",
       "4    2018  2018-03      9000000.0                  Series A 2018-03-13  20181Q"
      ]
     },
     "execution_count": 17,
     "metadata": {},
     "output_type": "execute_result"
    }
   ],
   "source": [
    "# this tells us what the funding looks like for the period, disclosed and undisclosed\n",
    "df = investments[['Funded','Period','FundingAmount', 'FundingType','FundedDate','Quarter']]\n",
    "df.head(5)\n",
    "#df_year = pd.DataFrame(df.groupby('Funded').FundingAmount.sum())\n",
    "#df_year = df_year.reset_index()\n",
    "#df_year.head(20)"
   ]
  },
  {
   "cell_type": "markdown",
   "metadata": {},
   "source": [
    "# Count How many investments"
   ]
  },
  {
   "cell_type": "code",
   "execution_count": 24,
   "metadata": {},
   "outputs": [
    {
     "data": {
      "image/png": "[encoded data removed]",
      "text/plain": [
       "<Figure size 1440x720 with 1 Axes>"
      ]
     },
     "metadata": {
      "needs_background": "light"
     },
     "output_type": "display_data"
    },
    {
     "data": {
      "image/png": "[encoded data removed]",
      "text/plain": [
       "<Figure size 360x360 with 1 Axes>"
      ]
     },
     "metadata": {
      "needs_background": "light"
     },
     "output_type": "display_data"
    },
    {
     "data": {
      "text/plain": [
       "<Figure size 432x288 with 0 Axes>"
      ]
     },
     "metadata": {},
     "output_type": "display_data"
    }
   ],
   "source": [
    "#g = sns.relplot(x=\"Funded\", y=\"FundingAmount\", hue=\"FundingType\", kind=\"scatter\", data=df)\n",
    "#g.fig.autofmt_xdate()\n",
    "fig, ax = plt.subplots(figsize=(20,10))\n",
    "sns.catplot(x=\"Quarter\", kind=\"count\", data=df, ax=ax)\n",
    "plt.show()\n",
    "plt.savefig(\"data/year-deals.pdf\", transparent=True)"
   ]
  },
  {
   "cell_type": "code",
   "execution_count": 19,
   "metadata": {},
   "outputs": [
    {
     "data": {
      "image/png": "[encoded data removed]",
      "text/plain": [
       "<Figure size 1440x720 with 1 Axes>"
      ]
     },
     "metadata": {
      "needs_background": "light"
     },
     "output_type": "display_data"
    },
    {
     "data": {
      "image/png": "[encoded data removed]",
      "text/plain": [
       "<Figure size 360x360 with 1 Axes>"
      ]
     },
     "metadata": {
      "needs_background": "light"
     },
     "output_type": "display_data"
    }
   ],
   "source": [
    "#df.drop(df[df['FundingAmount'] == -1].index, inplace=True)\n",
    "\n",
    "fig, ax = plt.subplots(figsize=(20,10))\n",
    "sns.catplot(x=\"Period\", kind=\"count\", data=df, ax=ax)\n",
    "plt.show()"
   ]
  },
  {
   "cell_type": "code",
   "execution_count": 21,
   "metadata": {},
   "outputs": [
    {
     "name": "stderr",
     "output_type": "stream",
     "text": [
      "/home/fahmida/.local/lib/python3.7/site-packages/pandas/core/frame.py:3940: SettingWithCopyWarning: \n",
      "A value is trying to be set on a copy of a slice from a DataFrame\n",
      "\n",
      "See the caveats in the documentation: http://pandas.pydata.org/pandas-docs/stable/indexing.html#indexing-view-versus-copy\n",
      "  errors=errors)\n"
     ]
    },
    {
     "data": {
      "text/html": [
       "<div>\n",
       "<style scoped>\n",
       "    .dataframe tbody tr th:only-of-type {\n",
       "        vertical-align: middle;\n",
       "    }\n",
       "\n",
       "    .dataframe tbody tr th {\n",
       "        vertical-align: top;\n",
       "    }\n",
       "\n",
       "    .dataframe thead th {\n",
       "        text-align: right;\n",
       "    }\n",
       "</style>\n",
       "<table border=\"1\" class=\"dataframe\">\n",
       "  <thead>\n",
       "    <tr style=\"text-align: right;\">\n",
       "      <th></th>\n",
       "      <th>Funded</th>\n",
       "      <th>Period</th>\n",
       "      <th>FundingAmount</th>\n",
       "      <th>FundingType</th>\n",
       "      <th>FundedDate</th>\n",
       "      <th>Quarter</th>\n",
       "    </tr>\n",
       "  </thead>\n",
       "  <tbody>\n",
       "    <tr>\n",
       "      <th>0</th>\n",
       "      <td>2017</td>\n",
       "      <td>2017-08</td>\n",
       "      <td>4000000.0</td>\n",
       "      <td>Seed</td>\n",
       "      <td>2017-08-28</td>\n",
       "      <td>20173Q</td>\n",
       "    </tr>\n",
       "    <tr>\n",
       "      <th>2</th>\n",
       "      <td>2018</td>\n",
       "      <td>2018-02</td>\n",
       "      <td>6000000.0</td>\n",
       "      <td>Seed</td>\n",
       "      <td>2018-02-21</td>\n",
       "      <td>20181Q</td>\n",
       "    </tr>\n",
       "    <tr>\n",
       "      <th>4</th>\n",
       "      <td>2018</td>\n",
       "      <td>2018-03</td>\n",
       "      <td>9000000.0</td>\n",
       "      <td>Series A</td>\n",
       "      <td>2018-03-13</td>\n",
       "      <td>20181Q</td>\n",
       "    </tr>\n",
       "    <tr>\n",
       "      <th>5</th>\n",
       "      <td>2018</td>\n",
       "      <td>2018-04</td>\n",
       "      <td>-1.0</td>\n",
       "      <td>Seed</td>\n",
       "      <td>2018-04-09</td>\n",
       "      <td>20182Q</td>\n",
       "    </tr>\n",
       "    <tr>\n",
       "      <th>6</th>\n",
       "      <td>2017</td>\n",
       "      <td>2017-09</td>\n",
       "      <td>594646.0</td>\n",
       "      <td>Seed</td>\n",
       "      <td>2017-09-04</td>\n",
       "      <td>20173Q</td>\n",
       "    </tr>\n",
       "  </tbody>\n",
       "</table>\n",
       "</div>"
      ],
      "text/plain": [
       "   Funded   Period  FundingAmount FundingType FundedDate Quarter\n",
       "0    2017  2017-08      4000000.0        Seed 2017-08-28  20173Q\n",
       "2    2018  2018-02      6000000.0        Seed 2018-02-21  20181Q\n",
       "4    2018  2018-03      9000000.0    Series A 2018-03-13  20181Q\n",
       "5    2018  2018-04           -1.0        Seed 2018-04-09  20182Q\n",
       "6    2017  2017-09       594646.0        Seed 2017-09-04  20173Q"
      ]
     },
     "execution_count": 21,
     "metadata": {},
     "output_type": "execute_result"
    }
   ],
   "source": [
    "deal_type = df\n",
    "deal_type['FundingType'].replace([\".*IPO.*\",\".*Secondary.*\",\".*Venture.*\",\".*Coin.*\",\".*Crowdfunding.*\",\".*[Ee]quity.*\",\".*Round.*\",\".*Note.*\",\".*Debt.*\",\".*Grant.*\"], \"Other\", regex=True, inplace=True)\n",
    "deal_type.drop(deal_type[deal_type['FundingType'] == \"Other\"].index, inplace=True)\n",
    "deal_type.head(5)"
   ]
  },
  {
   "cell_type": "code",
   "execution_count": 25,
   "metadata": {},
   "outputs": [
    {
     "data": {
      "image/png": "[encoded data removed]",
      "text/plain": [
       "<Figure size 431.055x360 with 1 Axes>"
      ]
     },
     "metadata": {
      "needs_background": "light"
     },
     "output_type": "display_data"
    }
   ],
   "source": [
    "df_deal = pd.DataFrame(deal_type.groupby(['FundingType','Funded']).FundingAmount.sum())\n",
    "df_deal = df_deal.reset_index()\n",
    "df_deal.to_csv('dealamounts.csv')\n",
    "sns.catplot(x=\"Funded\", y=\"FundingAmount\", hue=\"FundingType\", kind=\"swarm\", data=df_deal);\n",
    "#df_deal\n",
    "#deal_type.plot(x=['Quarter','FundingType'], y=\"FundingAmount\", kind=\"bar\", figsize=(20,10))\n",
    "#fig, ax = plt.subplots(figsize=(25,10))\n",
    "#sns.catplot(x=\"Quarter\", hue=\"FundingType\", kind=\"sum\", data=deal_type, ax=ax)\n",
    "#sns.catplot(x=\"Quarter\", kind=\"sum\", data=deal_type, ax=ax)\n",
    "#plt.show()\n",
    "plt.savefig(\"data/year-funds.pdf\", transparent=True)"
   ]
  },
  {
   "cell_type": "code",
   "execution_count": 31,
   "metadata": {},
   "outputs": [
    {
     "data": {
      "image/png": "[encoded data removed]",
      "text/plain": [
       "<Figure size 1800x720 with 1 Axes>"
      ]
     },
     "metadata": {
      "needs_background": "light"
     },
     "output_type": "display_data"
    },
    {
     "data": {
      "image/png": "[encoded data removed]",
      "text/plain": [
       "<Figure size 431.055x360 with 1 Axes>"
      ]
     },
     "metadata": {
      "needs_background": "light"
     },
     "output_type": "display_data"
    },
    {
     "data": {
      "text/plain": [
       "<Figure size 432x288 with 0 Axes>"
      ]
     },
     "metadata": {},
     "output_type": "display_data"
    }
   ],
   "source": [
    "noseed = deal_type[(deal_type.FundingType!='Seed')]\n",
    "fig, ax = plt.subplots(figsize=(25,10))\n",
    "sns.catplot(x=\"Quarter\", hue=\"FundingType\", kind=\"count\", data=noseed, ax=ax)\n",
    "#sns.catplot(x=\"Quarter\", kind=\"sum\", data=deal_type, ax=ax)\n",
    "plt.show()\n",
    "plt.savefig(\"data/quarter-deals.pdf\", transparent=True)"
   ]
  },
  {
   "cell_type": "code",
   "execution_count": 28,
   "metadata": {},
   "outputs": [
    {
     "data": {
      "image/png": "[encoded data removed]",
      "text/plain": [
       "<Figure size 1800x720 with 1 Axes>"
      ]
     },
     "metadata": {
      "needs_background": "light"
     },
     "output_type": "display_data"
    }
   ],
   "source": [
    "fig, ax = plt.subplots(figsize=(25,10))\n",
    "sns.lineplot(x=\"Quarter\", y=\"FundingAmount\", data=deal_type, palette=\"tab10\", linewidth=2.5)\n",
    "plt.show()"
   ]
  },
  {
   "cell_type": "code",
   "execution_count": 30,
   "metadata": {},
   "outputs": [
    {
     "data": {
      "text/plain": [
       "2000000.0"
      ]
     },
     "execution_count": 30,
     "metadata": {},
     "output_type": "execute_result"
    }
   ],
   "source": [
    "deal_type.FundingAmount.median()"
   ]
  }
 ],
 "metadata": {
  "kernelspec": {
   "display_name": "Python 3",
   "language": "python",
   "name": "python3"
  },
  "language_info": {
   "codemirror_mode": {
    "name": "ipython",
    "version": 3
   },
   "file_extension": ".py",
   "mimetype": "text/x-python",
   "name": "python",
   "nbconvert_exporter": "python",
   "pygments_lexer": "ipython3",
   "version": "3.7.3"
  }
 },
 "nbformat": 4,
 "nbformat_minor": 2
}
